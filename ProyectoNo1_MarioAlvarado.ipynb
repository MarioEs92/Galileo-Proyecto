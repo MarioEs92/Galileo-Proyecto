{
 "cells": [
  {
   "cell_type": "markdown",
   "id": "ddebe85e-4e39-406e-9cae-0662f7f60309",
   "metadata": {},
   "source": [
    "# Proyecto No. 1.\n",
    "#### Mario Esau Alvarado Contreras."
   ]
  },
  {
   "cell_type": "markdown",
   "id": "e9de1948-7dcd-4513-ba55-ca23593a7ef8",
   "metadata": {},
   "source": [
    "* Separación los datos en dos conjuntos: entrenamiento(80%) y validacion/pruebas(20%)."
   ]
  },
  {
   "cell_type": "code",
   "execution_count": 80,
   "id": "bc08554e-0f87-4be1-b6e0-18be4363e10e",
   "metadata": {
    "tags": []
   },
   "outputs": [],
   "source": [
    "# Librerias para Tratamiento de datos\n",
    "import numpy as np\n",
    "import pandas as pd"
   ]
  },
  {
   "cell_type": "code",
   "execution_count": 81,
   "id": "5b2d83fb-9827-4791-99a0-123b668634c8",
   "metadata": {
    "tags": []
   },
   "outputs": [],
   "source": [
    "# Libreria para creación de Gráficos\n",
    "import seaborn as sns\n",
    "import matplotlib.pyplot as plt\n",
    "import matplotlib.style as style\n",
    "\n"
   ]
  },
  {
   "cell_type": "code",
   "execution_count": 82,
   "id": "71949e71-ecd8-4ff3-b607-0d2936e3bd94",
   "metadata": {
    "tags": []
   },
   "outputs": [],
   "source": [
    "# Libreria para Preprocesado y modelado de datos\n",
    "from scipy.stats import pearsonr\n",
    "from sklearn.linear_model import LinearRegression\n",
    "from sklearn.model_selection import train_test_split\n",
    "from sklearn.metrics import r2_score\n",
    "from sklearn.metrics import mean_squared_error\n",
    "from sklearn.linear_model import LinearRegression\n",
    "style.use('ggplot')"
   ]
  },
  {
   "cell_type": "code",
   "execution_count": 83,
   "id": "c669fa27-d3a2-40ed-8af8-90057ae8f5bc",
   "metadata": {
    "tags": []
   },
   "outputs": [
    {
     "data": {
      "text/plain": [
       "(1460, 6)"
      ]
     },
     "execution_count": 83,
     "metadata": {},
     "output_type": "execute_result"
    }
   ],
   "source": [
    "ds = np.load('proyecto_training_data.npy', allow_pickle = False)\n",
    "ds.shape"
   ]
  },
  {
   "cell_type": "code",
   "execution_count": 84,
   "id": "759a26dd-e1fe-47e2-9b9d-0b9a53324a57",
   "metadata": {
    "tags": []
   },
   "outputs": [
    {
     "data": {
      "text/plain": [
       "array([[2.08500e+05, 7.00000e+00, 8.56000e+02, 8.00000e+00, 2.00300e+03,\n",
       "        6.50000e+01],\n",
       "       [1.81500e+05, 6.00000e+00, 1.26200e+03, 6.00000e+00, 1.97600e+03,\n",
       "        8.00000e+01],\n",
       "       [2.23500e+05, 7.00000e+00, 9.20000e+02, 6.00000e+00, 2.00100e+03,\n",
       "        6.80000e+01],\n",
       "       ...,\n",
       "       [2.66500e+05, 7.00000e+00, 1.18800e+03, 9.00000e+00, 1.94100e+03,\n",
       "        6.60000e+01],\n",
       "       [1.42125e+05, 5.00000e+00, 1.07800e+03, 5.00000e+00, 1.95000e+03,\n",
       "        6.80000e+01],\n",
       "       [1.47500e+05, 5.00000e+00, 1.25600e+03, 6.00000e+00, 1.96500e+03,\n",
       "        7.50000e+01]])"
      ]
     },
     "execution_count": 84,
     "metadata": {},
     "output_type": "execute_result"
    }
   ],
   "source": [
    "ds"
   ]
  },
  {
   "cell_type": "code",
   "execution_count": 85,
   "id": "f89c4844-eb58-4c7a-97b5-82f8bd9a8db8",
   "metadata": {
    "tags": []
   },
   "outputs": [
    {
     "data": {
      "text/plain": [
       "((1168, 6), (292, 6))"
      ]
     },
     "execution_count": 85,
     "metadata": {},
     "output_type": "execute_result"
    }
   ],
   "source": [
    "dataset = int(ds.shape[0]*0.8)\n",
    "np.random.shuffle(ds)\n",
    "entrenamiento, pruebas = ds[:dataset], ds[dataset:]\n",
    "\n",
    "entrenamiento.shape, pruebas.shape"
   ]
  },
  {
   "cell_type": "markdown",
   "id": "bad52860-7cd9-402c-8c78-5c1e64a5da7b",
   "metadata": {
    "tags": []
   },
   "source": [
    "# Analisis exploratorio de datos: Para cada variable en el dataset calcular(usando numpy o pandas):\n",
    "* Media\n",
    "* Valor maximo\n",
    "* Valor mınimo\n",
    "* Rango(peak to peak, no el rango del tensor que por ser vector sabemos que es 1)\n",
    "* desviacion estandar."
   ]
  },
  {
   "cell_type": "code",
   "execution_count": 91,
   "id": "f4f15434-eda5-4393-8107-bc312c664238",
   "metadata": {
    "tags": []
   },
   "outputs": [],
   "source": [
    "ds = pd.DataFrame(ds,columns =['SalePrice','OverallQual','1stFlrSF','TotRmsAbvGrd','YearBuilt','LotFrontage'])\n",
    "entrenamiento = pd.DataFrame(entrenamiento, columns  =['SalePrice', 'OverallQual','1stFlrSF','TotRmsAbvGrd','YearBuilt','LotFrontage'])\n",
    "pruebas = pd.DataFrame(pruebas, columns =['SalePrice','OverallQual', '1stFlrSF','TotRmsAbvGrd','YearBuilt','LotFrontage'])"
   ]
  },
  {
   "cell_type": "code",
   "execution_count": 92,
   "id": "81835971-a6e0-47f0-8f0a-f67877a8b7fa",
   "metadata": {
    "tags": []
   },
   "outputs": [
    {
     "data": {
      "text/html": [
       "<div>\n",
       "<style scoped>\n",
       "    .dataframe tbody tr th:only-of-type {\n",
       "        vertical-align: middle;\n",
       "    }\n",
       "\n",
       "    .dataframe tbody tr th {\n",
       "        vertical-align: top;\n",
       "    }\n",
       "\n",
       "    .dataframe thead th {\n",
       "        text-align: right;\n",
       "    }\n",
       "</style>\n",
       "<table border=\"1\" class=\"dataframe\">\n",
       "  <thead>\n",
       "    <tr style=\"text-align: right;\">\n",
       "      <th></th>\n",
       "      <th>SalePrice</th>\n",
       "      <th>OverallQual</th>\n",
       "      <th>1stFlrSF</th>\n",
       "      <th>TotRmsAbvGrd</th>\n",
       "      <th>YearBuilt</th>\n",
       "      <th>LotFrontage</th>\n",
       "    </tr>\n",
       "  </thead>\n",
       "  <tbody>\n",
       "    <tr>\n",
       "      <th>count</th>\n",
       "      <td>1460.000000</td>\n",
       "      <td>1460.000000</td>\n",
       "      <td>1460.000000</td>\n",
       "      <td>1460.000000</td>\n",
       "      <td>1460.000000</td>\n",
       "      <td>1201.000000</td>\n",
       "    </tr>\n",
       "    <tr>\n",
       "      <th>mean</th>\n",
       "      <td>180921.195890</td>\n",
       "      <td>6.099315</td>\n",
       "      <td>1162.626712</td>\n",
       "      <td>6.517808</td>\n",
       "      <td>1971.267808</td>\n",
       "      <td>70.049958</td>\n",
       "    </tr>\n",
       "    <tr>\n",
       "      <th>std</th>\n",
       "      <td>79442.502883</td>\n",
       "      <td>1.382997</td>\n",
       "      <td>386.587738</td>\n",
       "      <td>1.625393</td>\n",
       "      <td>30.202904</td>\n",
       "      <td>24.284752</td>\n",
       "    </tr>\n",
       "    <tr>\n",
       "      <th>min</th>\n",
       "      <td>34900.000000</td>\n",
       "      <td>1.000000</td>\n",
       "      <td>334.000000</td>\n",
       "      <td>2.000000</td>\n",
       "      <td>1872.000000</td>\n",
       "      <td>21.000000</td>\n",
       "    </tr>\n",
       "    <tr>\n",
       "      <th>25%</th>\n",
       "      <td>129975.000000</td>\n",
       "      <td>5.000000</td>\n",
       "      <td>882.000000</td>\n",
       "      <td>5.000000</td>\n",
       "      <td>1954.000000</td>\n",
       "      <td>59.000000</td>\n",
       "    </tr>\n",
       "    <tr>\n",
       "      <th>50%</th>\n",
       "      <td>163000.000000</td>\n",
       "      <td>6.000000</td>\n",
       "      <td>1087.000000</td>\n",
       "      <td>6.000000</td>\n",
       "      <td>1973.000000</td>\n",
       "      <td>69.000000</td>\n",
       "    </tr>\n",
       "    <tr>\n",
       "      <th>75%</th>\n",
       "      <td>214000.000000</td>\n",
       "      <td>7.000000</td>\n",
       "      <td>1391.250000</td>\n",
       "      <td>7.000000</td>\n",
       "      <td>2000.000000</td>\n",
       "      <td>80.000000</td>\n",
       "    </tr>\n",
       "    <tr>\n",
       "      <th>max</th>\n",
       "      <td>755000.000000</td>\n",
       "      <td>10.000000</td>\n",
       "      <td>4692.000000</td>\n",
       "      <td>14.000000</td>\n",
       "      <td>2010.000000</td>\n",
       "      <td>313.000000</td>\n",
       "    </tr>\n",
       "  </tbody>\n",
       "</table>\n",
       "</div>"
      ],
      "text/plain": [
       "           SalePrice  OverallQual     1stFlrSF  TotRmsAbvGrd    YearBuilt  \\\n",
       "count    1460.000000  1460.000000  1460.000000   1460.000000  1460.000000   \n",
       "mean   180921.195890     6.099315  1162.626712      6.517808  1971.267808   \n",
       "std     79442.502883     1.382997   386.587738      1.625393    30.202904   \n",
       "min     34900.000000     1.000000   334.000000      2.000000  1872.000000   \n",
       "25%    129975.000000     5.000000   882.000000      5.000000  1954.000000   \n",
       "50%    163000.000000     6.000000  1087.000000      6.000000  1973.000000   \n",
       "75%    214000.000000     7.000000  1391.250000      7.000000  2000.000000   \n",
       "max    755000.000000    10.000000  4692.000000     14.000000  2010.000000   \n",
       "\n",
       "       LotFrontage  \n",
       "count  1201.000000  \n",
       "mean     70.049958  \n",
       "std      24.284752  \n",
       "min      21.000000  \n",
       "25%      59.000000  \n",
       "50%      69.000000  \n",
       "75%      80.000000  \n",
       "max     313.000000  "
      ]
     },
     "execution_count": 92,
     "metadata": {},
     "output_type": "execute_result"
    }
   ],
   "source": [
    "ds.describe()"
   ]
  },
  {
   "cell_type": "markdown",
   "id": "8a9936cc-3d58-41d1-a553-956132ff308f",
   "metadata": {
    "tags": []
   },
   "source": [
    "## Rango"
   ]
  },
  {
   "cell_type": "code",
   "execution_count": 93,
   "id": "f1f56bbb-00bc-41db-83de-ee4f7ee0b7f2",
   "metadata": {
    "tags": []
   },
   "outputs": [
    {
     "data": {
      "text/html": [
       "<div>\n",
       "<style scoped>\n",
       "    .dataframe tbody tr th:only-of-type {\n",
       "        vertical-align: middle;\n",
       "    }\n",
       "\n",
       "    .dataframe tbody tr th {\n",
       "        vertical-align: top;\n",
       "    }\n",
       "\n",
       "    .dataframe thead th {\n",
       "        text-align: right;\n",
       "    }\n",
       "</style>\n",
       "<table border=\"1\" class=\"dataframe\">\n",
       "  <thead>\n",
       "    <tr style=\"text-align: right;\">\n",
       "      <th></th>\n",
       "      <th>SalePrice</th>\n",
       "      <th>OverallQual</th>\n",
       "      <th>1stFlrSF</th>\n",
       "      <th>TotRmsAbvGrd</th>\n",
       "      <th>YearBuilt</th>\n",
       "      <th>LotFrontage</th>\n",
       "    </tr>\n",
       "  </thead>\n",
       "  <tbody>\n",
       "    <tr>\n",
       "      <th>0</th>\n",
       "      <td>720100.0</td>\n",
       "      <td>9.0</td>\n",
       "      <td>4358.0</td>\n",
       "      <td>12.0</td>\n",
       "      <td>138.0</td>\n",
       "      <td>292.0</td>\n",
       "    </tr>\n",
       "  </tbody>\n",
       "</table>\n",
       "</div>"
      ],
      "text/plain": [
       "   SalePrice  OverallQual  1stFlrSF  TotRmsAbvGrd  YearBuilt  LotFrontage\n",
       "0   720100.0          9.0    4358.0          12.0      138.0        292.0"
      ]
     },
     "execution_count": 93,
     "metadata": {},
     "output_type": "execute_result"
    }
   ],
   "source": [
    "rango = ds.max() - ds.min()\n",
    "rango = pd.DataFrame(np.array(rango).reshape((1,-1)), columns=['SalePrice', 'OverallQual','1stFlrSF','TotRmsAbvGrd','YearBuilt','LotFrontage'])\n",
    "rango"
   ]
  },
  {
   "cell_type": "code",
   "execution_count": 95,
   "id": "05ac0ecc-6af8-4a0e-a1fa-c2748e83db25",
   "metadata": {
    "tags": []
   },
   "outputs": [],
   "source": [
    "def hit_dimensiones(ds, dimension):\n",
    "    plot = sns.displot(ds = ds, x=dimension)\n",
    "    plt.title(dimension)\n",
    "    plt.xlabel(dimension, fontsize = 12)\n",
    "    plt.ylabel('Conteo', fontsize = 12)\n",
    "    plt.show()"
   ]
  },
  {
   "cell_type": "code",
   "execution_count": 96,
   "id": "561635e1-2ae4-4f34-8128-35aecbb5c92c",
   "metadata": {
    "tags": []
   },
   "outputs": [
    {
     "ename": "ValueError",
     "evalue": "Could not interpret value `SalePrice` for parameter `x`",
     "output_type": "error",
     "traceback": [
      "\u001b[1;31m---------------------------------------------------------------------------\u001b[0m",
      "\u001b[1;31mValueError\u001b[0m                                Traceback (most recent call last)",
      "Cell \u001b[1;32mIn[96], line 2\u001b[0m\n\u001b[0;32m      1\u001b[0m \u001b[38;5;28;01mfor\u001b[39;00m i \u001b[38;5;129;01min\u001b[39;00m ds\u001b[38;5;241m.\u001b[39mcolumns\u001b[38;5;241m.\u001b[39mto_list():\n\u001b[1;32m----> 2\u001b[0m     hit_dimensiones(entrenamiento, i)\n",
      "Cell \u001b[1;32mIn[95], line 2\u001b[0m, in \u001b[0;36mhit_dimensiones\u001b[1;34m(ds, dimension)\u001b[0m\n\u001b[0;32m      1\u001b[0m \u001b[38;5;28;01mdef\u001b[39;00m \u001b[38;5;21mhit_dimensiones\u001b[39m(ds, dimension):\n\u001b[1;32m----> 2\u001b[0m     plot \u001b[38;5;241m=\u001b[39m sns\u001b[38;5;241m.\u001b[39mdisplot(ds \u001b[38;5;241m=\u001b[39m ds, x\u001b[38;5;241m=\u001b[39mdimension)\n\u001b[0;32m      3\u001b[0m     plt\u001b[38;5;241m.\u001b[39mtitle(dimension)\n\u001b[0;32m      4\u001b[0m     plt\u001b[38;5;241m.\u001b[39mxlabel(dimension, fontsize \u001b[38;5;241m=\u001b[39m \u001b[38;5;241m12\u001b[39m)\n",
      "File \u001b[1;32mC:\\ProgramData\\anaconda3\\Lib\\site-packages\\seaborn\\distributions.py:2125\u001b[0m, in \u001b[0;36mdisplot\u001b[1;34m(data, x, y, hue, row, col, weights, kind, rug, rug_kws, log_scale, legend, palette, hue_order, hue_norm, color, col_wrap, row_order, col_order, height, aspect, facet_kws, **kwargs)\u001b[0m\n\u001b[0;32m   2111\u001b[0m \u001b[38;5;28;01mdef\u001b[39;00m \u001b[38;5;21mdisplot\u001b[39m(\n\u001b[0;32m   2112\u001b[0m     data\u001b[38;5;241m=\u001b[39m\u001b[38;5;28;01mNone\u001b[39;00m, \u001b[38;5;241m*\u001b[39m,\n\u001b[0;32m   2113\u001b[0m     \u001b[38;5;66;03m# Vector variables\u001b[39;00m\n\u001b[1;32m   (...)\u001b[0m\n\u001b[0;32m   2122\u001b[0m     \u001b[38;5;241m*\u001b[39m\u001b[38;5;241m*\u001b[39mkwargs,\n\u001b[0;32m   2123\u001b[0m ):\n\u001b[1;32m-> 2125\u001b[0m     p \u001b[38;5;241m=\u001b[39m _DistributionFacetPlotter(\n\u001b[0;32m   2126\u001b[0m         data\u001b[38;5;241m=\u001b[39mdata,\n\u001b[0;32m   2127\u001b[0m         variables\u001b[38;5;241m=\u001b[39m_DistributionFacetPlotter\u001b[38;5;241m.\u001b[39mget_semantics(\u001b[38;5;28mlocals\u001b[39m())\n\u001b[0;32m   2128\u001b[0m     )\n\u001b[0;32m   2130\u001b[0m     p\u001b[38;5;241m.\u001b[39mmap_hue(palette\u001b[38;5;241m=\u001b[39mpalette, order\u001b[38;5;241m=\u001b[39mhue_order, norm\u001b[38;5;241m=\u001b[39mhue_norm)\n\u001b[0;32m   2132\u001b[0m     _check_argument(\u001b[38;5;124m\"\u001b[39m\u001b[38;5;124mkind\u001b[39m\u001b[38;5;124m\"\u001b[39m, [\u001b[38;5;124m\"\u001b[39m\u001b[38;5;124mhist\u001b[39m\u001b[38;5;124m\"\u001b[39m, \u001b[38;5;124m\"\u001b[39m\u001b[38;5;124mkde\u001b[39m\u001b[38;5;124m\"\u001b[39m, \u001b[38;5;124m\"\u001b[39m\u001b[38;5;124mecdf\u001b[39m\u001b[38;5;124m\"\u001b[39m], kind)\n",
      "File \u001b[1;32mC:\\ProgramData\\anaconda3\\Lib\\site-packages\\seaborn\\distributions.py:113\u001b[0m, in \u001b[0;36m_DistributionPlotter.__init__\u001b[1;34m(self, data, variables)\u001b[0m\n\u001b[0;32m    107\u001b[0m \u001b[38;5;28;01mdef\u001b[39;00m \u001b[38;5;21m__init__\u001b[39m(\n\u001b[0;32m    108\u001b[0m     \u001b[38;5;28mself\u001b[39m,\n\u001b[0;32m    109\u001b[0m     data\u001b[38;5;241m=\u001b[39m\u001b[38;5;28;01mNone\u001b[39;00m,\n\u001b[0;32m    110\u001b[0m     variables\u001b[38;5;241m=\u001b[39m{},\n\u001b[0;32m    111\u001b[0m ):\n\u001b[1;32m--> 113\u001b[0m     \u001b[38;5;28msuper\u001b[39m()\u001b[38;5;241m.\u001b[39m\u001b[38;5;21m__init__\u001b[39m(data\u001b[38;5;241m=\u001b[39mdata, variables\u001b[38;5;241m=\u001b[39mvariables)\n",
      "File \u001b[1;32mC:\\ProgramData\\anaconda3\\Lib\\site-packages\\seaborn\\_oldcore.py:640\u001b[0m, in \u001b[0;36mVectorPlotter.__init__\u001b[1;34m(self, data, variables)\u001b[0m\n\u001b[0;32m    635\u001b[0m \u001b[38;5;66;03m# var_ordered is relevant only for categorical axis variables, and may\u001b[39;00m\n\u001b[0;32m    636\u001b[0m \u001b[38;5;66;03m# be better handled by an internal axis information object that tracks\u001b[39;00m\n\u001b[0;32m    637\u001b[0m \u001b[38;5;66;03m# such information and is set up by the scale_* methods. The analogous\u001b[39;00m\n\u001b[0;32m    638\u001b[0m \u001b[38;5;66;03m# information for numeric axes would be information about log scales.\u001b[39;00m\n\u001b[0;32m    639\u001b[0m \u001b[38;5;28mself\u001b[39m\u001b[38;5;241m.\u001b[39m_var_ordered \u001b[38;5;241m=\u001b[39m {\u001b[38;5;124m\"\u001b[39m\u001b[38;5;124mx\u001b[39m\u001b[38;5;124m\"\u001b[39m: \u001b[38;5;28;01mFalse\u001b[39;00m, \u001b[38;5;124m\"\u001b[39m\u001b[38;5;124my\u001b[39m\u001b[38;5;124m\"\u001b[39m: \u001b[38;5;28;01mFalse\u001b[39;00m}  \u001b[38;5;66;03m# alt., used DefaultDict\u001b[39;00m\n\u001b[1;32m--> 640\u001b[0m \u001b[38;5;28mself\u001b[39m\u001b[38;5;241m.\u001b[39massign_variables(data, variables)\n\u001b[0;32m    642\u001b[0m \u001b[38;5;28;01mfor\u001b[39;00m var, \u001b[38;5;28mcls\u001b[39m \u001b[38;5;129;01min\u001b[39;00m \u001b[38;5;28mself\u001b[39m\u001b[38;5;241m.\u001b[39m_semantic_mappings\u001b[38;5;241m.\u001b[39mitems():\n\u001b[0;32m    643\u001b[0m \n\u001b[0;32m    644\u001b[0m     \u001b[38;5;66;03m# Create the mapping function\u001b[39;00m\n\u001b[0;32m    645\u001b[0m     map_func \u001b[38;5;241m=\u001b[39m partial(\u001b[38;5;28mcls\u001b[39m\u001b[38;5;241m.\u001b[39mmap, plotter\u001b[38;5;241m=\u001b[39m\u001b[38;5;28mself\u001b[39m)\n",
      "File \u001b[1;32mC:\\ProgramData\\anaconda3\\Lib\\site-packages\\seaborn\\_oldcore.py:701\u001b[0m, in \u001b[0;36mVectorPlotter.assign_variables\u001b[1;34m(self, data, variables)\u001b[0m\n\u001b[0;32m    699\u001b[0m \u001b[38;5;28;01melse\u001b[39;00m:\n\u001b[0;32m    700\u001b[0m     \u001b[38;5;28mself\u001b[39m\u001b[38;5;241m.\u001b[39minput_format \u001b[38;5;241m=\u001b[39m \u001b[38;5;124m\"\u001b[39m\u001b[38;5;124mlong\u001b[39m\u001b[38;5;124m\"\u001b[39m\n\u001b[1;32m--> 701\u001b[0m     plot_data, variables \u001b[38;5;241m=\u001b[39m \u001b[38;5;28mself\u001b[39m\u001b[38;5;241m.\u001b[39m_assign_variables_longform(\n\u001b[0;32m    702\u001b[0m         data, \u001b[38;5;241m*\u001b[39m\u001b[38;5;241m*\u001b[39mvariables,\n\u001b[0;32m    703\u001b[0m     )\n\u001b[0;32m    705\u001b[0m \u001b[38;5;28mself\u001b[39m\u001b[38;5;241m.\u001b[39mplot_data \u001b[38;5;241m=\u001b[39m plot_data\n\u001b[0;32m    706\u001b[0m \u001b[38;5;28mself\u001b[39m\u001b[38;5;241m.\u001b[39mvariables \u001b[38;5;241m=\u001b[39m variables\n",
      "File \u001b[1;32mC:\\ProgramData\\anaconda3\\Lib\\site-packages\\seaborn\\_oldcore.py:938\u001b[0m, in \u001b[0;36mVectorPlotter._assign_variables_longform\u001b[1;34m(self, data, **kwargs)\u001b[0m\n\u001b[0;32m    933\u001b[0m \u001b[38;5;28;01melif\u001b[39;00m \u001b[38;5;28misinstance\u001b[39m(val, (\u001b[38;5;28mstr\u001b[39m, \u001b[38;5;28mbytes\u001b[39m)):\n\u001b[0;32m    934\u001b[0m \n\u001b[0;32m    935\u001b[0m     \u001b[38;5;66;03m# This looks like a column name but we don't know what it means!\u001b[39;00m\n\u001b[0;32m    937\u001b[0m     err \u001b[38;5;241m=\u001b[39m \u001b[38;5;124mf\u001b[39m\u001b[38;5;124m\"\u001b[39m\u001b[38;5;124mCould not interpret value `\u001b[39m\u001b[38;5;132;01m{\u001b[39;00mval\u001b[38;5;132;01m}\u001b[39;00m\u001b[38;5;124m` for parameter `\u001b[39m\u001b[38;5;132;01m{\u001b[39;00mkey\u001b[38;5;132;01m}\u001b[39;00m\u001b[38;5;124m`\u001b[39m\u001b[38;5;124m\"\u001b[39m\n\u001b[1;32m--> 938\u001b[0m     \u001b[38;5;28;01mraise\u001b[39;00m \u001b[38;5;167;01mValueError\u001b[39;00m(err)\n\u001b[0;32m    940\u001b[0m \u001b[38;5;28;01melse\u001b[39;00m:\n\u001b[0;32m    941\u001b[0m \n\u001b[0;32m    942\u001b[0m     \u001b[38;5;66;03m# Otherwise, assume the value is itself data\u001b[39;00m\n\u001b[0;32m    943\u001b[0m \n\u001b[0;32m    944\u001b[0m     \u001b[38;5;66;03m# Raise when data object is present and a vector can't matched\u001b[39;00m\n\u001b[0;32m    945\u001b[0m     \u001b[38;5;28;01mif\u001b[39;00m \u001b[38;5;28misinstance\u001b[39m(data, pd\u001b[38;5;241m.\u001b[39mDataFrame) \u001b[38;5;129;01mand\u001b[39;00m \u001b[38;5;129;01mnot\u001b[39;00m \u001b[38;5;28misinstance\u001b[39m(val, pd\u001b[38;5;241m.\u001b[39mSeries):\n",
      "\u001b[1;31mValueError\u001b[0m: Could not interpret value `SalePrice` for parameter `x`"
     ]
    }
   ],
   "source": [
    "for i in ds.columns.to_list():\n",
    "    hit_dimensiones(entrenamiento, i)"
   ]
  },
  {
   "cell_type": "code",
   "execution_count": null,
   "id": "d3361b34-f637-400b-9cbd-c1fcaf0dc580",
   "metadata": {
    "tags": []
   },
   "outputs": [],
   "source": [
    "ds.shape"
   ]
  },
  {
   "cell_type": "code",
   "execution_count": null,
   "id": "01edcb40-4fe9-419b-af3d-f7ef6716ebca",
   "metadata": {
    "tags": []
   },
   "outputs": [],
   "source": [
    "ds.dtypes"
   ]
  },
  {
   "cell_type": "code",
   "execution_count": null,
   "id": "86c2554f-b8db-4d50-ac70-06c015ad57f6",
   "metadata": {
    "tags": []
   },
   "outputs": [],
   "source": [
    "ds['SalePrice'].hist()"
   ]
  },
  {
   "cell_type": "markdown",
   "id": "c792d72d-136b-4b46-9ec1-84616f2bf7b8",
   "metadata": {
    "tags": []
   },
   "source": [
    "## Histogramas. "
   ]
  },
  {
   "cell_type": "code",
   "execution_count": null,
   "id": "2d617b8e-48e9-4ca1-9c77-9099952419c9",
   "metadata": {},
   "outputs": [],
   "source": []
  },
  {
   "cell_type": "code",
   "execution_count": null,
   "id": "baae6dfe-832f-47aa-ae4d-e692762e3990",
   "metadata": {},
   "outputs": [],
   "source": []
  },
  {
   "cell_type": "code",
   "execution_count": null,
   "id": "d8183481-df9b-4c3e-8da4-f4d98fc730b9",
   "metadata": {},
   "outputs": [],
   "source": []
  },
  {
   "cell_type": "code",
   "execution_count": null,
   "id": "a82c388a-95b7-45a9-9ce7-c98b58b2fbea",
   "metadata": {
    "tags": []
   },
   "outputs": [],
   "source": [
    "ds.hist(bins=50,figsize=(20,15))"
   ]
  },
  {
   "cell_type": "code",
   "execution_count": null,
   "id": "959fbfd0-e897-4273-addf-c20c135a9cd9",
   "metadata": {
    "tags": []
   },
   "outputs": [],
   "source": [
    "def hist_dimensions(ds, dimension):\n",
    "    plot = sns.displot(ds = ds, x=dimension)\n",
    "    plt.title(dimension)\n",
    "    plt.xlabel(dimension, fontsize = 12)\n",
    "    plt.ylabel('Conteo', fontsize = 12)\n",
    "    plt.show()"
   ]
  },
  {
   "cell_type": "code",
   "execution_count": null,
   "id": "41480c7b-4d75-421f-b924-c3fe6d760df4",
   "metadata": {
    "tags": []
   },
   "outputs": [],
   "source": [
    "for i in ds.columns.to_list():\n",
    "    hist_dimensions(entrenamiento, i)"
   ]
  },
  {
   "cell_type": "markdown",
   "id": "58eb9227-0511-4449-8a6d-ebf0b28decd5",
   "metadata": {
    "tags": []
   },
   "source": [
    "## Correlaciones"
   ]
  },
  {
   "cell_type": "code",
   "execution_count": null,
   "id": "9eb313f8-ec63-4d96-8f5b-61599bc0e8a5",
   "metadata": {},
   "outputs": [],
   "source": []
  },
  {
   "cell_type": "code",
   "execution_count": null,
   "id": "5a745250-fa8f-40b7-b3c1-eb69a1c536d1",
   "metadata": {
    "tags": []
   },
   "outputs": [],
   "source": [
    "def correlaciones(ds, dim_x, dim_y):\n",
    "    corr = (pd.DataFrame(ds[[dim_x, dim_y]]).corr().iloc[0,1])\n",
    "    plt.figure(figsize=(6,3))\n",
    "    plt.scatter(ds = ds, x=dim_x, y=dim_y)\n",
    "    plt.title(str(dim_x)+' vs '+ str(dim_y) + '| Correlacion:'+str((round(corr,4))), fontsize=12)\n",
    "    plt.xticks(fontsize = 10)\n",
    "    plt.yticks(fontsize = 10)\n",
    "    plt.show()\n",
    "    return round(corr,4)"
   ]
  },
  {
   "cell_type": "code",
   "execution_count": null,
   "id": "3bf9002d-d560-4acf-ac2b-da49b0a75b96",
   "metadata": {
    "tags": []
   },
   "outputs": [],
   "source": [
    "variables=[]\n",
    "corre=[]\n",
    "for i in ds.columns.to_list():\n",
    "    variables.append(i)\n",
    "    corre.append(correlaciones(pruebas, i, 'SalePrice'))"
   ]
  },
  {
   "cell_type": "code",
   "execution_count": null,
   "id": "e534b5d2-f7f6-4595-92e5-fb78f1ef9089",
   "metadata": {
    "tags": []
   },
   "outputs": [],
   "source": [
    "dataset = np.load('proyecto_training_data.npy')\n",
    "train_size = int(0.8 * dataset.shape[0])\n",
    "train_data = dataset[:train_size]\n",
    "validation_data = dataset[train_size:]"
   ]
  },
  {
   "cell_type": "code",
   "execution_count": null,
   "id": "bc2fb3c7-5e7c-4731-979c-6708d5911d1b",
   "metadata": {},
   "outputs": [],
   "source": []
  },
  {
   "cell_type": "code",
   "execution_count": null,
   "id": "770be31f-4948-4da0-8554-d57fc66cf122",
   "metadata": {
    "tags": []
   },
   "outputs": [],
   "source": [
    "# Calcula las estadísticas descriptivas de cada variable utilizando NumPy o Pandas\n",
    "# Paso 3: Análisis exploratorio de datos\n",
    "# Por ejemplo:\n",
    "mean_x = np.mean(train_data[:, 0])\n",
    "max_x = np.max(train_data[:, 0])\n",
    "min_x = np.min(train_data[:, 0])\n",
    "range_x = np.ptp(train_data[:, 0])\n",
    "std_x = np.std(train_data[:, 0])"
   ]
  },
  {
   "cell_type": "code",
   "execution_count": null,
   "id": "a180676a-6199-4bfb-a4cd-9ea4b1ca2593",
   "metadata": {
    "tags": []
   },
   "outputs": [],
   "source": [
    "# Paso 4: Gráfico de histograma para cada variable utilizando Seaborn\n",
    "\n",
    "# Por ejemplo:\n",
    "sns.distplot(train_data[:, 0])\n",
    "plt.show()"
   ]
  },
  {
   "cell_type": "code",
   "execution_count": null,
   "id": "b7992a43-037a-4b21-9a60-5ddb9c5691e7",
   "metadata": {
    "tags": []
   },
   "outputs": [],
   "source": [
    "# Paso 5: Calcular el coeficiente de correlación y graficar el scatterplot\n",
    "\n",
    "# Por ejemplo, suponiendo que la columna 0 es la variable independiente (x) y la columna 1 es la variable dependiente (y):\n",
    "corr_coef = np.corrcoef(train_data[:, 0], train_data[:, 1])[0, 1]\n",
    "\n",
    "plt.scatter(train_data[:, 0], train_data[:, 1])\n",
    "plt.title(f\"Scatterplot (Coeficiente de correlación: {corr_coef})\")\n",
    "plt.xlabel(\"Variable independiente (x)\")\n",
    "plt.ylabel(\"Variable dependiente (y)\")\n",
    "plt.show()"
   ]
  },
  {
   "cell_type": "code",
   "execution_count": null,
   "id": "77e689b0-c8cc-48ac-95f3-372f77ad2d6c",
   "metadata": {
    "tags": []
   },
   "outputs": [],
   "source": [
    "# Paso 6: Crear una función para entrenar un modelo de regresión lineal de una variable\n",
    "\n",
    "def train_linear_regression_model(x, y, epochs, print_error_each, learning_rate):\n",
    "    # Inicializar los parámetros del modelo\n",
    "    beta0 = 0.0\n",
    "    beta1 = 0.0\n",
    "    \n",
    "    # Crear una matriz de diseño con una columna de unos y la variable independiente\n",
    "    X = np.column_stack((x, np.ones_like(x)))\n",
    "    \n",
    "    # Almacenar los errores en cada iteración\n",
    "    errors = []\n",
    "    \n",
    "    for epoch in range(epochs):\n",
    "        # Calcular las predicciones\n",
    "        y_pred = np.dot(X, np.array([beta1, beta0]))\n",
    "        \n",
    "        # Calcular el error\n",
    "        error = np.mean((y_pred - y) ** 2)\n",
    "        errors.append(error)\n",
    "        \n",
    "        if epoch % print_error_each == 0:\n",
    "            print(f\"Iteración: {epoch}, Error: {error}\")\n",
    "        \n",
    "        # Calcular los gradientes\n",
    "        delta_beta1 = (1 / len(x)) * np.dot((y_pred - y), x)\n",
    "        delta_beta0 = (1 / len(x)) * np.sum(y_pred - y)\n",
    "        \n",
    "        # Actualizar los parámetros del modelo\n",
    "        beta1 -= learning_rate * delta_beta1\n",
    "        beta0 -= learning_rate * delta_beta0\n",
    "    \n",
    "    return beta0, beta1, errors\n",
    "\n",
    "# Ejemplo de uso de la función:\n",
    "x_train = train_data[:, 0]\n",
    "y_train = train_data[:, 1]\n",
    "epochs = 1000\n",
    "print_error_each = 100\n",
    "learning_rate = 0.01\n",
    "\n",
    "beta0, beta1, errors = train_linear_regression_model(x_train, y_train, epochs, print_error_each, learning_rate)\n"
   ]
  },
  {
   "cell_type": "code",
   "execution_count": null,
   "id": "8a177ad6-2fbd-46f3-9153-edb864d6e9d6",
   "metadata": {
    "tags": []
   },
   "outputs": [],
   "source": [
    "# Paso 7: Realizar el gráfico de los errores en cada iteración\n",
    "\n",
    "plt.plot(range(epochs), errors)\n",
    "plt.title(\"Errores en cada iteración\")\n",
    "plt.xlabel(\"Iteración\")\n",
    "plt.ylabel(\"Error\")\n",
    "plt.show()"
   ]
  },
  {
   "cell_type": "code",
   "execution_count": null,
   "id": "6776e457-b7cf-49a9-bf75-54a450331e62",
   "metadata": {},
   "outputs": [],
   "source": []
  },
  {
   "cell_type": "code",
   "execution_count": null,
   "id": "58b7109e-f3ab-4182-995f-a9b2ac69d4de",
   "metadata": {},
   "outputs": [],
   "source": []
  },
  {
   "cell_type": "code",
   "execution_count": 21,
   "id": "6a97d3bd-ff11-45f2-869c-a3ed88f8c82c",
   "metadata": {},
   "outputs": [
    {
     "data": {
      "text/plain": [
       "(1460, 6)"
      ]
     },
     "execution_count": 21,
     "metadata": {},
     "output_type": "execute_result"
    }
   ],
   "source": [
    "data = np.load('proyecto_training_data.npy', allow_pickle = False)\n",
    "data.shape"
   ]
  },
  {
   "cell_type": "code",
   "execution_count": 22,
   "id": "8c00a7d5-d6ca-4e70-be05-ac18df6409da",
   "metadata": {},
   "outputs": [
    {
     "data": {
      "text/plain": [
       "((1168, 6), (292, 6))"
      ]
     },
     "execution_count": 22,
     "metadata": {},
     "output_type": "execute_result"
    }
   ],
   "source": [
    "pct = int(data.shape[0]*0.8)\n",
    "np.random.shuffle(data)\n",
    "train, test = data[:pct], data[pct:]\n",
    "\n",
    "train.shape, test.shape"
   ]
  },
  {
   "cell_type": "code",
   "execution_count": 23,
   "id": "336dabf3-304d-4384-8a88-62938c67984f",
   "metadata": {
    "tags": []
   },
   "outputs": [],
   "source": [
    "data = pd.DataFrame(data, columns = ['SalePrice', 'OverallQual','1stFlrSF','TotRmsAbvGrd','YearBuilt','LotFrontage'])\n",
    "train = pd.DataFrame(train, columns = ['SalePrice', 'OverallQual','1stFlrSF','TotRmsAbvGrd','YearBuilt','LotFrontage'])\n",
    "test = pd.DataFrame(test, columns = ['SalePrice','OverallQual', '1stFlrSF','TotRmsAbvGrd','YearBuilt','LotFrontage'])"
   ]
  },
  {
   "cell_type": "code",
   "execution_count": 24,
   "id": "e4cca276-f085-4886-9b8d-41ca7b31f7e7",
   "metadata": {
    "tags": []
   },
   "outputs": [
    {
     "data": {
      "text/html": [
       "<div>\n",
       "<style scoped>\n",
       "    .dataframe tbody tr th:only-of-type {\n",
       "        vertical-align: middle;\n",
       "    }\n",
       "\n",
       "    .dataframe tbody tr th {\n",
       "        vertical-align: top;\n",
       "    }\n",
       "\n",
       "    .dataframe thead th {\n",
       "        text-align: right;\n",
       "    }\n",
       "</style>\n",
       "<table border=\"1\" class=\"dataframe\">\n",
       "  <thead>\n",
       "    <tr style=\"text-align: right;\">\n",
       "      <th></th>\n",
       "      <th>SalePrice</th>\n",
       "      <th>OverallQual</th>\n",
       "      <th>1stFlrSF</th>\n",
       "      <th>TotRmsAbvGrd</th>\n",
       "      <th>YearBuilt</th>\n",
       "      <th>LotFrontage</th>\n",
       "    </tr>\n",
       "  </thead>\n",
       "  <tbody>\n",
       "    <tr>\n",
       "      <th>0</th>\n",
       "      <td>720100.0</td>\n",
       "      <td>9.0</td>\n",
       "      <td>4358.0</td>\n",
       "      <td>12.0</td>\n",
       "      <td>138.0</td>\n",
       "      <td>292.0</td>\n",
       "    </tr>\n",
       "  </tbody>\n",
       "</table>\n",
       "</div>"
      ],
      "text/plain": [
       "   SalePrice  OverallQual  1stFlrSF  TotRmsAbvGrd  YearBuilt  LotFrontage\n",
       "0   720100.0          9.0    4358.0          12.0      138.0        292.0"
      ]
     },
     "execution_count": 24,
     "metadata": {},
     "output_type": "execute_result"
    }
   ],
   "source": [
    "rango_p2p = data.max() - data.min()\n",
    "rango_p2p  = pd.DataFrame(np.array(rango_p2p).reshape((1,-1)), columns =['SalePrice', 'OverallQual','1stFlrSF','TotRmsAbvGrd','YearBuilt','LotFrontage'] )\n",
    "rango_p2p"
   ]
  },
  {
   "cell_type": "code",
   "execution_count": 31,
   "id": "ed32254e-c0e2-43a5-8fc3-d013b718716a",
   "metadata": {
    "tags": []
   },
   "outputs": [],
   "source": [
    "def hist_dimensions(data, dimension):\n",
    "    plot = sns.displot(data = data, x = dimension)\n",
    "    plt.title(dimension)\n",
    "    plt.xlabel(dimension, fontsize = 10)\n",
    "    plt.ylabel('Conteo', fontsize = 10)\n",
    "    plt.show()"
   ]
  },
  {
   "cell_type": "code",
   "execution_count": 32,
   "id": "6903fd44-e7b7-4657-9857-26039084d453",
   "metadata": {
    "tags": []
   },
   "outputs": [
    {
     "name": "stderr",
     "output_type": "stream",
     "text": [
      "C:\\ProgramData\\anaconda3\\Lib\\site-packages\\seaborn\\axisgrid.py:118: UserWarning: The figure layout has changed to tight\n",
      "  self._figure.tight_layout(*args, **kwargs)\n"
     ]
    },
    {
     "data": {
      "image/png": "[encoded data removed]",
      "text/plain": [
       "<Figure size 500x500 with 1 Axes>"
      ]
     },
     "metadata": {},
     "output_type": "display_data"
    },
    {
     "name": "stderr",
     "output_type": "stream",
     "text": [
      "C:\\ProgramData\\anaconda3\\Lib\\site-packages\\seaborn\\axisgrid.py:118: UserWarning: The figure layout has changed to tight\n",
      "  self._figure.tight_layout(*args, **kwargs)\n"
     ]
    },
    {
     "data": {
      "image/png": "[encoded data removed]",
      "text/plain": [
       "<Figure size 500x500 with 1 Axes>"
      ]
     },
     "metadata": {},
     "output_type": "display_data"
    },
    {
     "name": "stderr",
     "output_type": "stream",
     "text": [
      "C:\\ProgramData\\anaconda3\\Lib\\site-packages\\seaborn\\axisgrid.py:118: UserWarning: The figure layout has changed to tight\n",
      "  self._figure.tight_layout(*args, **kwargs)\n"
     ]
    },
    {
     "data": {
      "image/png": "[encoded data removed]",
      "text/plain": [
       "<Figure size 500x500 with 1 Axes>"
      ]
     },
     "metadata": {},
     "output_type": "display_data"
    },
    {
     "name": "stderr",
     "output_type": "stream",
     "text": [
      "C:\\ProgramData\\anaconda3\\Lib\\site-packages\\seaborn\\axisgrid.py:118: UserWarning: The figure layout has changed to tight\n",
      "  self._figure.tight_layout(*args, **kwargs)\n"
     ]
    },
    {
     "data": {
      "image/png": "[encoded data removed]",
      "text/plain": [
       "<Figure size 500x500 with 1 Axes>"
      ]
     },
     "metadata": {},
     "output_type": "display_data"
    },
    {
     "name": "stderr",
     "output_type": "stream",
     "text": [
      "C:\\ProgramData\\anaconda3\\Lib\\site-packages\\seaborn\\axisgrid.py:118: UserWarning: The figure layout has changed to tight\n",
      "  self._figure.tight_layout(*args, **kwargs)\n"
     ]
    },
    {
     "data": {
      "image/png": "[encoded data removed]",
      "text/plain": [
       "<Figure size 500x500 with 1 Axes>"
      ]
     },
     "metadata": {},
     "output_type": "display_data"
    },
    {
     "name": "stderr",
     "output_type": "stream",
     "text": [
      "C:\\ProgramData\\anaconda3\\Lib\\site-packages\\seaborn\\axisgrid.py:118: UserWarning: The figure layout has changed to tight\n",
      "  self._figure.tight_layout(*args, **kwargs)\n"
     ]
    },
    {
     "data": {
      "image/png": "[encoded data removed]",
      "text/plain": [
       "<Figure size 500x500 with 1 Axes>"
      ]
     },
     "metadata": {},
     "output_type": "display_data"
    }
   ],
   "source": [
    "for i in data.columns.to_list():\n",
    "    hist_dimensions(train, i)"
   ]
  },
  {
   "cell_type": "code",
   "execution_count": null,
   "id": "a13fc70a-0fd4-44e4-b585-b83635d15938",
   "metadata": {},
   "outputs": [],
   "source": []
  },
  {
   "cell_type": "code",
   "execution_count": null,
   "id": "cd1a1ba7-dc26-4868-8e7a-67b898dabd82",
   "metadata": {},
   "outputs": [],
   "source": []
  },
  {
   "cell_type": "code",
   "execution_count": null,
   "id": "5681c887-2b10-4784-a537-e9503474a692",
   "metadata": {},
   "outputs": [],
   "source": []
  },
  {
   "cell_type": "code",
   "execution_count": null,
   "id": "d3d5143e-0880-4e32-856a-4b0025d61a5f",
   "metadata": {},
   "outputs": [],
   "source": []
  },
  {
   "cell_type": "code",
   "execution_count": null,
   "id": "b5f2ced5-cfba-42ef-a9b9-1467d9bac0cb",
   "metadata": {},
   "outputs": [],
   "source": []
  },
  {
   "cell_type": "code",
   "execution_count": null,
   "id": "94ffe41c-cfe1-4afc-95c9-3e2542b83c6b",
   "metadata": {},
   "outputs": [],
   "source": []
  }
 ],
 "metadata": {
  "kernelspec": {
   "display_name": "Python 3 (ipykernel)",
   "language": "python",
   "name": "python3"
  },
  "language_info": {
   "codemirror_mode": {
    "name": "ipython",
    "version": 3
   },
   "file_extension": ".py",
   "mimetype": "text/x-python",
   "name": "python",
   "nbconvert_exporter": "python",
   "pygments_lexer": "ipython3",
   "version": "3.11.5"
  }
 },
 "nbformat": 4,
 "nbformat_minor": 5
}
